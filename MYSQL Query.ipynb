{
  "nbformat": 4,
  "nbformat_minor": 0,
  "metadata": {
    "colab": {
      "provenance": [],
      "authorship_tag": "ABX9TyPQzQfYWA6iYKCI9mhUMK+D",
      "include_colab_link": true
    },
    "kernelspec": {
      "name": "python3",
      "display_name": "Python 3"
    },
    "language_info": {
      "name": "python"
    }
  },
  "cells": [
    {
      "cell_type": "markdown",
      "metadata": {
        "id": "view-in-github",
        "colab_type": "text"
      },
      "source": [
        "<a href=\"https://colab.research.google.com/github/Arif264Shaik/Health_Analytics/blob/main/MYSQL%20Query.ipynb\" target=\"_parent\"><img src=\"https://colab.research.google.com/assets/colab-badge.svg\" alt=\"Open In Colab\"/></a>"
      ]
    },
    {
      "cell_type": "code",
      "execution_count": null,
      "metadata": {
        "id": "WR35YPHF_GNX"
      },
      "outputs": [],
      "source": [
        "# 1 Count & percentile of F vs M that have OCD & Average Obsession Score by Gender\n",
        "\n",
        "SELECT Gender, count(*) as Patient_Count,\n",
        "ROUND(COUNT(*) * 100.0 / (SELECT COUNT(*) FROM ocd_patient_dataset),2) AS Percentage,\n",
        "round(avg(`Y-BOCS Score (Obsessions)`), 2) as Avg_Obession_Score\n",
        "FROM ocd_patient_dataset\n",
        "group by gender\n",
        "order by patient_count DESC;\n",
        "\n",
        "# 2 Count of patients by Ethnicity and their respective Avg obession score\n",
        "\n",
        "SELECT Ethnicity, count(*) as Patient_Count, round(avg(`Y-BOCS Score (Obsessions)`), 2) AS Avg_Obession_Score\n",
        "FROM ocd_patient_dataset\n",
        "group by Ethnicity\n",
        "order by Avg_Obession_Score DESc;\n",
        "\n",
        "# 3 Number of people diagnosed MOM\n",
        "\n",
        "-- ALTER TABLE ocd_patient_dataset\n",
        "-- MODIFY COLUMN `OCD Diagnosis Date` DATE;\n",
        "\n",
        "SELECT\n",
        "    DATE_FORMAT(`OCD Diagnosis Date`, '%Y-%m') AS Month,\n",
        "    COUNT(`Patient ID`) AS Patient_Count\n",
        "FROM\n",
        "    ocd_patient_dataset\n",
        "GROUP BY 1\n",
        "ORDER BY 1;\n",
        "\n",
        "# 4 What is the most common Obsession Type (Count) & it's respective Average Obsession Score\n",
        "\n",
        "SELECT `Obsession Type` AS Obession_Type, count(*) AS Patient_Count, round(avg(`Y-BOCS Score (Obsessions)`), 2) as Avg_Obession_Score\n",
        "FROM ocd_patient_dataset\n",
        "GROUP BY 1\n",
        "ORDER BY 3 DESC;\n",
        "\n",
        "# 5 What is the most common Compulsion type (Count) & it's respective Average Obsession Score\n",
        "\n",
        "SELECT `Compulsion Type` AS Compulsion_Type, count(*) AS Patient_Count, round(avg(`Y-BOCS Score (Obsessions)`), 2) as Avg_Obession_Score\n",
        "FROM ocd_patient_dataset\n",
        "GROUP BY 1\n",
        "ORDER BY 3 DESC ;\n"
      ]
    }
  ]
}